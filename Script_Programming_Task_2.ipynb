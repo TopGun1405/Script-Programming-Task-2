{
 "cells": [
  {
   "cell_type": "markdown",
   "id": "7abaccb1",
   "metadata": {},
   "source": [
    "---"
   ]
  },
  {
   "cell_type": "markdown",
   "id": "21ae2f14",
   "metadata": {},
   "source": [
    "## 2020136006학번 국건"
   ]
  },
  {
   "cell_type": "markdown",
   "id": "b2950e16",
   "metadata": {},
   "source": [
    "---"
   ]
  },
  {
   "cell_type": "markdown",
   "id": "7f9820bd",
   "metadata": {},
   "source": [
    "### 1. 다음 6개의 Expression에 대해 Evaluation 결과 값을 출력하고, 해당 결과가 나온 이유에 대해 설명하시오."
   ]
  },
  {
   "cell_type": "code",
   "execution_count": 12,
   "id": "79072148",
   "metadata": {},
   "outputs": [
    {
     "data": {
      "text/plain": [
       "4"
      ]
     },
     "execution_count": 12,
     "metadata": {},
     "output_type": "execute_result"
    }
   ],
   "source": [
    "1 and 2 and 3 and 4"
   ]
  },
  {
   "cell_type": "markdown",
   "id": "52ae24e9",
   "metadata": {},
   "source": [
    "- 1 and 2 = 2 \n",
    "    - -> 2 and 3 = 3\n",
    "        - -> 3 and 4 = 4"
   ]
  },
  {
   "cell_type": "code",
   "execution_count": 16,
   "id": "55cb686b",
   "metadata": {},
   "outputs": [
    {
     "data": {
      "text/plain": [
       "1"
      ]
     },
     "execution_count": 16,
     "metadata": {},
     "output_type": "execute_result"
    }
   ],
   "source": [
    "1 or 2 or 3 or 4"
   ]
  },
  {
   "cell_type": "markdown",
   "id": "08b1027f",
   "metadata": {},
   "source": [
    "- 1 or 2 = 1\n",
    "    - -> 1 or 3 = 1\n",
    "        - -> 1 or 4 = 1"
   ]
  },
  {
   "cell_type": "code",
   "execution_count": 18,
   "id": "31af317a",
   "metadata": {},
   "outputs": [
    {
     "data": {
      "text/plain": [
       "2"
      ]
     },
     "execution_count": 18,
     "metadata": {},
     "output_type": "execute_result"
    }
   ],
   "source": [
    "1 and 2 or 3 and 4"
   ]
  },
  {
   "cell_type": "markdown",
   "id": "7aa5d9b3",
   "metadata": {},
   "source": [
    "- 1 and 2 = 2\n",
    "    - -> 3 and 4 = 4\n",
    "        - -> 2 or 4 = 2"
   ]
  },
  {
   "cell_type": "code",
   "execution_count": 22,
   "id": "92cd6ea8",
   "metadata": {},
   "outputs": [
    {
     "data": {
      "text/plain": [
       "2"
      ]
     },
     "execution_count": 22,
     "metadata": {},
     "output_type": "execute_result"
    }
   ],
   "source": [
    "(1 and 2) or (3 and 4)"
   ]
  },
  {
   "cell_type": "markdown",
   "id": "e6365501",
   "metadata": {},
   "source": [
    "- 1 and 2 = 2\n",
    "    - -> 3 and 4 = 4\n",
    "        - -> 2 or 4 = 2"
   ]
  },
  {
   "cell_type": "code",
   "execution_count": 23,
   "id": "0291302c",
   "metadata": {},
   "outputs": [
    {
     "data": {
      "text/plain": [
       "1"
      ]
     },
     "execution_count": 23,
     "metadata": {},
     "output_type": "execute_result"
    }
   ],
   "source": [
    "1 or 2 and 3 or 4"
   ]
  },
  {
   "cell_type": "markdown",
   "id": "09895f87",
   "metadata": {},
   "source": [
    "- 2 and 3 = 3\n",
    "    - -> 1 or 3 = 1\n",
    "        - -> 1 or 4 = 1"
   ]
  },
  {
   "cell_type": "code",
   "execution_count": 24,
   "id": "4a1cd2d2",
   "metadata": {},
   "outputs": [
    {
     "data": {
      "text/plain": [
       "3"
      ]
     },
     "execution_count": 24,
     "metadata": {},
     "output_type": "execute_result"
    }
   ],
   "source": [
    "(1 or 2) and (3 or 4)"
   ]
  },
  {
   "cell_type": "markdown",
   "id": "7af0507e",
   "metadata": {},
   "source": [
    "- 1 or 2 = 1\n",
    "    - -> 3 or 4 = 3\n",
    "        - -> 1 and 3 = 3"
   ]
  },
  {
   "cell_type": "markdown",
   "id": "f2ff78eb",
   "metadata": {},
   "source": [
    "---"
   ]
  },
  {
   "cell_type": "markdown",
   "id": "a52f35df",
   "metadata": {},
   "source": [
    "### 2. 경로에 해당하는 문자열 1개를 입력 받아 그 안에 디렉토리 경로명과 파일명을 분리하여 리스트로 반환하는 함수 div_path(s)를 작성하시오."
   ]
  },
  {
   "cell_type": "markdown",
   "id": "0ec17536",
   "metadata": {},
   "source": [
    "- 인자로 전달하는 문자열은 경로만 들어간다고 가정한다.\n",
    "- 각 디렉토리와 파일을 구분하는 문자는 '/'로 가정한다.\n",
    "- 반환하는 리스트의 첫번째 원소는 디렉토리이고 두번째 원소는 파일명이다.\n",
    "- 다음과 같은 실행 및 출력 결과가 도출되어야 한다.\n",
    "    - div_path('usr/local/bin/python')\n",
    "        - ['/usr/local/bin/python']\n",
    "    - div_path('/home/chulsoo/test.txt')\n",
    "        - ['/home/chulsoo','test.txt']\n",
    "- [참고] 리스트(I) 내에 새로운 정수값 (예를 들어 10)을 넣는 방법은 I.append(10)이다."
   ]
  },
  {
   "cell_type": "code",
   "execution_count": 10,
   "id": "45fa7663",
   "metadata": {},
   "outputs": [
    {
     "name": "stdout",
     "output_type": "stream",
     "text": [
      "경로를 입력하세요 : div_path('/usr/local/bin/python')\n",
      "['/usr/local/bin', 'python']\n"
     ]
    }
   ],
   "source": [
    "def div_path(s) :\n",
    "    index1 = 0\n",
    "    index2 = 0\n",
    "    for i in s.strip() :\n",
    "        index1 += 1\n",
    "        if i == '(' :\n",
    "            break\n",
    "    for i in s.strip() :\n",
    "        index2 += 1\n",
    "        if i == ')' :\n",
    "            index2 -= 2\n",
    "            break\n",
    "            \n",
    "    s = s[index1 : index2]\n",
    "    s = s.split('/')\n",
    "    s = s[1 : ]\n",
    "    \n",
    "    str = []\n",
    "    s2 = ''\n",
    "    for i in range(len(s) - 1) :\n",
    "        s2 += '/' + s[i]\n",
    "    str.append(s2)\n",
    "    \n",
    "    str.append(s[len(s) - 1])\n",
    "    return str\n",
    "    \n",
    "div = input('경로를 입력하세요 : ')\n",
    "print(div_path(div))"
   ]
  },
  {
   "cell_type": "markdown",
   "id": "844d1675",
   "metadata": {},
   "source": [
    "---"
   ]
  },
  {
   "cell_type": "markdown",
   "id": "ba985d91",
   "metadata": {},
   "source": [
    "- '(' 와 ')'의 인덱스를 문자열에서 찾은 후 해당 범위로 슬라이싱을 진행한다. 그 후 문자열을 '/'를 기준으로 잘라내고 문자열의 맨 앞의 공백을 슬라이싱 해준 뒤 str 리스트에 문자열의 s의 경로를 할당한 문자열 s2와 마지막 경로 또는 파일명을 추가한다."
   ]
  },
  {
   "cell_type": "markdown",
   "id": "cc24ee91",
   "metadata": {},
   "source": [
    "---"
   ]
  },
  {
   "cell_type": "markdown",
   "id": "1d5e7d80",
   "metadata": {},
   "source": [
    "### 3. 두 개의 리스트를 인자로 받아서 그 두 개의 리스트에 대한 '합집합'을 반환하는 함수 list_union(lista, listb)를 작성하시오."
   ]
  },
  {
   "cell_type": "markdown",
   "id": "bb44c210",
   "metadata": {},
   "source": [
    "- **집합 자료형 set은 사용하지 않는다.**\n",
    "- 인자로 전달하는 리스트 2 개에는 정수값만 들어간다고 가정하자.\n",
    "- 함수 내에서 새로운 리스트를 만들어 그 리스트 내에 인자로 받은 두 리스트의 모든 원소를 넣어 반환한다.\n",
    "- 반환하는 리스트에는 절대로 중복된 원소가 들어 있으면 안된다 (집합의 조건).\n",
    "- 반환하는 리스트는 정렬이 되어 있어야 한다.\n",
    "- 다음과 같은 실행 및 출력 결과가 도출되어야 한다.\n",
    "    - list_union([1, 2, 3], [1, 2, 4])\n",
    "        - [1, 2, 3, 4]\n",
    "    - list_union([-10, -5, 0, -1], [100, 9, 0, 9])\n",
    "        - [-10, -5, -1, 0, 9, 100]\n",
    "    - list_union([0, 1, 2], [0, 1, 2])\n",
    "        - [0, 1, 2]\n",
    "- [참고] 리스트(I) 내에 새로운 정수값 (예를 들어 10)을 넣는 방법은 I.append(10) 이다.\n",
    "- [참고] 임의의 정수값 (x)이 리스트 (I) 내에 존재하는지 판단하는 방법은 x in I 이다."
   ]
  },
  {
   "cell_type": "code",
   "execution_count": 3,
   "id": "1af0fd57",
   "metadata": {},
   "outputs": [
    {
     "name": "stdout",
     "output_type": "stream",
     "text": [
      "[1, 2, 3, 4]\n"
     ]
    }
   ],
   "source": [
    "def list_union(lista, listb) :\n",
    "    listc = []\n",
    "    for i in listb :\n",
    "        listc.append(i)\n",
    "    for i in lista :\n",
    "        if i not in listc :\n",
    "            listc.append(i)\n",
    "    return sorted(listc)\n",
    "\n",
    "a = [1, 2, 3]\n",
    "b = [1, 2, 4]\n",
    "print(list_union(a, b))"
   ]
  },
  {
   "cell_type": "markdown",
   "id": "9c6160e1",
   "metadata": {},
   "source": [
    "---"
   ]
  },
  {
   "cell_type": "markdown",
   "id": "b68b530c",
   "metadata": {},
   "source": [
    "- list_union 함수 내에서 두 리스트에 대한 합집합을 반환하기 위해 listc를 생성하여 listc에 listb의 원소를 모두 담고, lista의 원소 중 listc에 없는 원소를 추가한 후 중복 원소가 없도록 정력하여 반환한다."
   ]
  },
  {
   "cell_type": "markdown",
   "id": "0e859051",
   "metadata": {},
   "source": [
    "---"
   ]
  },
  {
   "cell_type": "markdown",
   "id": "fba20d82",
   "metadata": {},
   "source": [
    "### 4. 두 개의 리스트를 인자로 받아서 그 두 개의 리스트에 대한 '교집합'을 반환하는 함수 list_intersection(lista, listb)와 '차집합'을 반환하는 함수 list_difference(lista, listb)를 작성하시오.\n",
    "- 모든 가정과 조건은 3번 문제와 동일하다."
   ]
  },
  {
   "cell_type": "code",
   "execution_count": 27,
   "id": "088e6228",
   "metadata": {},
   "outputs": [
    {
     "name": "stdout",
     "output_type": "stream",
     "text": [
      "[1, 2]\n",
      "[3]\n"
     ]
    }
   ],
   "source": [
    "def list_intersection(lista, listb) :\n",
    "    listc = []\n",
    "    for i in listb :\n",
    "        if i in lista :\n",
    "            listc.append(i)\n",
    "    return sorted(listc)\n",
    "\n",
    "def list_difference(lista, listb) :\n",
    "    listc = []\n",
    "    for i in lista :\n",
    "        listc.append(i)\n",
    "    for i in listb :\n",
    "        if i in lista :\n",
    "            listc.remove(i)\n",
    "    return sorted(listc)          \n",
    "\n",
    "a = [1, 2, 3]\n",
    "b = [1, 2, 4]\n",
    "print(list_intersection(a, b))\n",
    "print(list_difference(a, b))"
   ]
  },
  {
   "cell_type": "markdown",
   "id": "87f27d1d",
   "metadata": {},
   "source": [
    "---"
   ]
  },
  {
   "cell_type": "markdown",
   "id": "c91c72aa",
   "metadata": {},
   "source": [
    "- list_intersection 함수는 listc에 listb 원소중 lista에도 존재하는 원소를 추가한 후 중복이 없도록 정렬하고 반환하여 교집합을 구하며, list_difference 함수는 listc에 lista의 원소를 모두 추가한 후 listb의 원소 중 lista에도 존재하는 원소를 제거하며 중복이 없도록 정렬하고 반환하여 lista - lisb 차집합을 구한다."
   ]
  },
  {
   "cell_type": "markdown",
   "id": "360f725e",
   "metadata": {},
   "source": [
    "---"
   ]
  },
  {
   "cell_type": "markdown",
   "id": "aeb1cabf",
   "metadata": {},
   "source": [
    "### 5. 두 개의 양의 정수를 인자로 받아서 해당 범위안에 있는 소수(prime number)의 리스트를 출력하는 함수 print_primenumber(a, b)를 작성하시오.\n",
    "- 이미 구현된 모듈이나 라이브러리는 사용하지 않는다.\n",
    "- 함수의 반환(return)은 없으며 함수 내의 끝에서 .format()을 사용하여 다음과 같이 출력한다.\n",
    "    - print_primenumber(2, 10)\n",
    "        - 2 이상 10 이하 정수 중 소수 리스트 : [2, 3, 5, 7]"
   ]
  },
  {
   "cell_type": "code",
   "execution_count": 8,
   "id": "5c936419",
   "metadata": {},
   "outputs": [
    {
     "name": "stdout",
     "output_type": "stream",
     "text": [
      "두 양의 정수를 입력하세요 : 2 10\n",
      "2 이상 10 이하 정수 중 소수 리스트 : [2, 3, 5, 7]\n"
     ]
    }
   ],
   "source": [
    "def print_primenumber(a, b) :\n",
    "    primenumL = []\n",
    "    for i in range(a, b + 1) :\n",
    "        count = 0\n",
    "        for n in range(1, i + 1) :\n",
    "            if i % n == 0 :\n",
    "                count += 1\n",
    "        if count <= 2 :\n",
    "            primenumL.append(i)\n",
    "            \n",
    "    print('{0} 이상 {1} 이하 정수 중 소수 리스트 : {2}'.format(a, b, primenumL))\n",
    "    \n",
    "a, b = input('두 양의 정수를 입력하세요 : ').split()\n",
    "print_primenumber(int(a), int(b))"
   ]
  },
  {
   "cell_type": "markdown",
   "id": "c5e81433",
   "metadata": {},
   "source": [
    "---"
   ]
  },
  {
   "cell_type": "markdown",
   "id": "2768509c",
   "metadata": {},
   "source": [
    "- 두 양의 정수를 입력 받은 후 두 양의 정수 사이의 정수들에서 소수를 primenumL 리스트에 추가해 반환한다."
   ]
  },
  {
   "cell_type": "markdown",
   "id": "5da18df0",
   "metadata": {},
   "source": [
    "---"
   ]
  },
  {
   "cell_type": "markdown",
   "id": "067700ba",
   "metadata": {},
   "source": [
    "### [Incremental Project 문제]"
   ]
  },
  {
   "cell_type": "markdown",
   "id": "cfe5ff94",
   "metadata": {},
   "source": [
    "웹 URL로 지정된 웹페이지를 문자열로 가져와 1) 모든 HTML 태그를 제외한 순수 텍스트 문자열만을 걸러내고, 2) 그 순수 텍스트 문자열 안에 존재하는 단어가 총 몇개인지 출력하는 프로그램을 작성하시오.\n",
    "- HTML 태그는 다음 조건을 가지는 것이다.\n",
    "    - < 로 시작하여 >로 끝난다.\n",
    "    - 예를 들어, 아래와 같은 HTML 내용 내에 한 줄이 있다고 가정하자.\n",
    "```\n",
    "        <label for=\"keep_signed\">로그인 유지</label>\n",
    "```\n",
    "        - 위 소스에서 HTMML 태그로 제외한 순수 텍스트 문자열: 로그인 유지\n",
    "    - 다른 예제\n",
    "```\n",
    "        <a href=\"#panel-3\" class=\"ui-tabs-anchor\" role=\"presentation\" tabindex=\"-1\" id=\"ui-id-3\"><strong>교육역량강화사업 온라인 컨텐츠</strong><br>\n",
    "        ```\n",
    "        - 순수 텍스트 문자열: 교육역량강화사업 온라인 컨텐츠\n",
    "    - 한편, 아래와 같은 HTML 한 줄이 있다고 가정하자.\n",
    "```\n",
    "        <link rel=\"stylesheet\" href=\"/common/css/xe.min.css?20150910092654\" />\n",
    "```\n",
    "        - 위 한 줄은 HTML 태그로만 구성된 것이며 걸러낼 수 있는 순수 텍스트 문자열은 존재하지 않는다.\n",
    "    - 다른 예제\n",
    "```\n",
    "        //<![CDATA[\n",
    "        xe.current_lang = \"ko\";\n",
    "        xe.cmd_find = \"찾기\";\n",
    "        xe.cmd_cancel = \"취소\";\n",
    "        xe.cmd_confirm = \"확인\";\n",
    "        xe.msg_no_root = \"루트는 선택 할 수 없습니다.\";\n",
    "        xe.msg_no_shortcut = \"바로가기는 선택 할 수 없습니다.\";\n",
    "        xe.msg_select_menu = \"대상 메뉴 선택\";\n",
    "        //]]>\n",
    "```\n",
    "        - 순수 텍스트 문자열: 없음\n",
    "    - 단어를 나누는 기준은 오로지 공백문자 (whitespace)이다.\n",
    "        - 즉, 위 순수 텍스트 문자열인 \"로그인 유지\"에서 분리한 단어는 \"로그인\"과 \"유지\"이다.\n",
    "    - 중복을 고려하지 않고 무조건 모든 단어의 개수를 세어서 출력한다.\n",
    "    - 본 숙제를 위하여 HTML 파싱과 관련된 모듈 (예. BeautifulSoup) 사용 금지\n",
    "    - 다음은 URL로 지정된 웹페이지를 특정 문자열로 가져오는 코드이다.\n",
    "        - 즉, 숙제 코드는 아래 코드로 부터 시작해야 한다.\n",
    "        - 아래 코드 수행시 requests 모듈이 존재하지 않는 에러가 발생하면 command 창에서 다음 코드를 입력하여 requests 모듈을 설치후 아래 코드 수행\n",
    "```\n",
    "            >pip install requests\n",
    "```\n",
    "    - 본 문제에 대한 정확한 답안은 존재하지 않으며, 채점은 코딩 내용을 보고 코딩의 정확성, 완결성, 가독성 등을 보고 평가한다.\n",
    "    - 2개 이상의 URL에 대하여 순수한 단어의 개수를 출력하는 예시를 제시할 것"
   ]
  },
  {
   "cell_type": "code",
   "execution_count": 26,
   "id": "f73f6878",
   "metadata": {},
   "outputs": [
    {
     "name": "stdout",
     "output_type": "stream",
     "text": [
      "1169\n",
      "36\n",
      "4543\n"
     ]
    }
   ],
   "source": [
    "import requests\n",
    "\n",
    "req = requests.get('http://link.koreatech.ac.kr/')\n",
    "source = req.text\n",
    "\n",
    "# 추후 숙제 답안 제출 때엔 아래 코드는 주석처리할 것\n",
    "# print(source)\n",
    "\n",
    "def return_pureTextNum(link) :\n",
    "    req = requests.get(link)\n",
    "    source = req.text\n",
    "    \n",
    "    htmlTag = 0\n",
    "    pureStr = ''\n",
    "    for i in range(len(source)) :\n",
    "        if source[i] == '<' and htmlTag == 0 :\n",
    "            htmlTag = 1\n",
    "        if source[i] == '>' and htmlTag == 1 :\n",
    "            htmlTag = 0\n",
    "            continue\n",
    "        if htmlTag == 0 :\n",
    "            pureStr += source[i]\n",
    "    return len(pureStr.split())\n",
    "\n",
    "print(return_pureTextNum('http://link.koreatech.ac.kr/'))\n",
    "print(return_pureTextNum('http://cse.koreatech.ac.kr'))\n",
    "print(return_pureTextNum('https://www.naver.com/'))"
   ]
  },
  {
   "cell_type": "markdown",
   "id": "7490ce6b",
   "metadata": {},
   "source": [
    "---"
   ]
  },
  {
   "cell_type": "markdown",
   "id": "ca1d3401",
   "metadata": {},
   "source": [
    "- 주소를 바꿔가며 웹페이지의 문자열을 찾을 때 마다 새로운 변수를 생성하는 것은 비효율적인 것 같아 함수로 정의하고 함수 내에서는 문자열이 <로 시작할 때는 변수 htmlTag의 값을 1로, htmlTag가 1일때 문자열이 >일 경우 htmlTag의 값을 0으로 설정해 html 태그를 구분하며 htmlTag가 0일때 문자열을 pureStr 문자열에 추가한 후 공백을 기준으로 잘라내어 단어의 개수를 구하였다."
   ]
  },
  {
   "cell_type": "markdown",
   "id": "a4654d0b",
   "metadata": {},
   "source": [
    "---"
   ]
  },
  {
   "cell_type": "markdown",
   "id": "6ccaf76a",
   "metadata": {},
   "source": [
    "### 느낀점"
   ]
  },
  {
   "cell_type": "markdown",
   "id": "c9850adb",
   "metadata": {},
   "source": [
    "문자열을 다루는 것의 생각하는 과정이 복잡하게 느껴져 시간이 오래걸렸던 것 같지만, 문제를 풀며 html에 대한 지식도 조금 생기고 문자열에 대한 공부도 되어 실력 향상에 도움이 된 것 같습니다."
   ]
  },
  {
   "cell_type": "markdown",
   "id": "fa55d703",
   "metadata": {},
   "source": [
    "---"
   ]
  }
 ],
 "metadata": {
  "kernelspec": {
   "display_name": "Python 3",
   "language": "python",
   "name": "python3"
  },
  "language_info": {
   "codemirror_mode": {
    "name": "ipython",
    "version": 3
   },
   "file_extension": ".py",
   "mimetype": "text/x-python",
   "name": "python",
   "nbconvert_exporter": "python",
   "pygments_lexer": "ipython3",
   "version": "3.8.8"
  }
 },
 "nbformat": 4,
 "nbformat_minor": 5
}
